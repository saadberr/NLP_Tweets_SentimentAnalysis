{
 "cells": [
  {
   "cell_type": "markdown",
   "metadata": {},
   "source": [
    " # <center> Twitter sentiment Analysis"
   ]
  },
  {
   "cell_type": "markdown",
   "metadata": {},
   "source": [
    "## Part 1 : practical example using SentiWordnet"
   ]
  },
  {
   "cell_type": "markdown",
   "metadata": {
    "colab_type": "text",
    "id": "Wl6c-Xah9gcO"
   },
   "source": [
    "#**Importing Required Libraries**"
   ]
  },
  {
   "cell_type": "code",
   "execution_count": 1,
   "metadata": {},
   "outputs": [],
   "source": [
    "import warnings\n",
    "warnings.filterwarnings('ignore')"
   ]
  },
  {
   "cell_type": "code",
   "execution_count": 2,
   "metadata": {},
   "outputs": [],
   "source": [
    "import string\n",
    "import re"
   ]
  },
  {
   "cell_type": "code",
   "execution_count": 3,
   "metadata": {
    "colab": {
     "base_uri": "https://localhost:8080/",
     "height": 221
    },
    "colab_type": "code",
    "id": "XhNeppG6Eo9B",
    "outputId": "f9749cdc-3bb7-4879-c63c-0b03e4e72c8f"
   },
   "outputs": [],
   "source": [
    "import nltk\n",
    "from nltk.corpus import wordnet as wn\n",
    "from nltk.corpus import sentiwordnet as swn\n",
    "from nltk.stem import WordNetLemmatizer\n",
    "from nltk.corpus import stopwords"
   ]
  },
  {
   "cell_type": "code",
   "execution_count": 4,
   "metadata": {
    "colab": {
     "base_uri": "https://localhost:8080/",
     "height": 221
    },
    "colab_type": "code",
    "id": "XhNeppG6Eo9B",
    "outputId": "f9749cdc-3bb7-4879-c63c-0b03e4e72c8f"
   },
   "outputs": [],
   "source": [
    "#nltk.download('wordnet')\n",
    "#nltk.download('sentiwordnet')\n",
    "#nltk.download('stopwords')\n",
    "#nltk.download('punkt')\n",
    "#nltk.download('averaged_perceptron_tagger')"
   ]
  },
  {
   "cell_type": "code",
   "execution_count": 5,
   "metadata": {},
   "outputs": [],
   "source": [
    "from sklearn.metrics import classification_report\n",
    "from sklearn.model_selection import train_test_split"
   ]
  },
  {
   "cell_type": "code",
   "execution_count": 6,
   "metadata": {},
   "outputs": [],
   "source": [
    "from sklearn.tree import DecisionTreeClassifier\n",
    "from sklearn.ensemble import RandomForestClassifier\n",
    "from sklearn.linear_model import LogisticRegression\n",
    "from sklearn.neighbors import KNeighborsClassifier\n",
    "from sklearn.svm import LinearSVC\n",
    "from sklearn.naive_bayes import GaussianNB"
   ]
  },
  {
   "cell_type": "markdown",
   "metadata": {
    "colab_type": "text",
    "id": "dh7FuMaLAqb2"
   },
   "source": [
    "#**Text PreProcessing**"
   ]
  },
  {
   "cell_type": "code",
   "execution_count": 7,
   "metadata": {
    "colab": {
     "base_uri": "https://localhost:8080/",
     "height": 221
    },
    "colab_type": "code",
    "id": "XhNeppG6Eo9B",
    "outputId": "f9749cdc-3bb7-4879-c63c-0b03e4e72c8f"
   },
   "outputs": [],
   "source": [
    "lemmatizer = WordNetLemmatizer()"
   ]
  },
  {
   "cell_type": "code",
   "execution_count": 8,
   "metadata": {
    "colab": {
     "base_uri": "https://localhost:8080/",
     "height": 221
    },
    "colab_type": "code",
    "id": "XhNeppG6Eo9B",
    "outputId": "f9749cdc-3bb7-4879-c63c-0b03e4e72c8f"
   },
   "outputs": [],
   "source": [
    "sentence = \"One of the best movie of all time. Period.\""
   ]
  },
  {
   "cell_type": "markdown",
   "metadata": {
    "colab_type": "text",
    "id": "6Qz5iqQpoYVn"
   },
   "source": [
    "#### (1) Removing Punctuations"
   ]
  },
  {
   "cell_type": "code",
   "execution_count": 9,
   "metadata": {
    "colab": {
     "base_uri": "https://localhost:8080/",
     "height": 34
    },
    "colab_type": "code",
    "id": "qiF5qTEU8eI3",
    "outputId": "9c337c56-8564-4db4-df98-b34434a19fe5"
   },
   "outputs": [
    {
     "name": "stdout",
     "output_type": "stream",
     "text": [
      "One of the best movie of all time Period\n"
     ]
    }
   ],
   "source": [
    "#punctuations = '''!()-[]{};:'\"\\,<>./?@#$%^&*_~'''\n",
    "punctuations = list(string.punctuation)\n",
    "\n",
    "for x in sentence: \n",
    "  if x in punctuations: \n",
    "    sentence = sentence.replace(x, \"\")\n",
    "\n",
    "print(sentence)"
   ]
  },
  {
   "cell_type": "code",
   "execution_count": 10,
   "metadata": {},
   "outputs": [
    {
     "name": "stdout",
     "output_type": "stream",
     "text": [
      "One of the best movie of all time Period\n"
     ]
    }
   ],
   "source": [
    "# OR\n",
    "sentence = re.sub('[%s]' % re.escape(string.punctuation), '' , sentence)\n",
    "print(sentence)"
   ]
  },
  {
   "cell_type": "markdown",
   "metadata": {
    "colab_type": "text",
    "id": "E162bD8uohb1"
   },
   "source": [
    "#### (2) Change Case + Tokenization"
   ]
  },
  {
   "cell_type": "code",
   "execution_count": 11,
   "metadata": {
    "colab": {
     "base_uri": "https://localhost:8080/",
     "height": 34
    },
    "colab_type": "code",
    "id": "EKVrpopOEp3h",
    "outputId": "fa0a915b-6876-4798-f6d6-78b25b38d0a1"
   },
   "outputs": [
    {
     "name": "stdout",
     "output_type": "stream",
     "text": [
      "['one', 'of', 'the', 'best', 'movie', 'of', 'all', 'time', 'period']\n"
     ]
    }
   ],
   "source": [
    "Tokens = nltk.word_tokenize(sentence.lower())\n",
    "print(Tokens)"
   ]
  },
  {
   "cell_type": "markdown",
   "metadata": {
    "colab_type": "text",
    "id": "juVoKR1JooNE"
   },
   "source": [
    "#### (3) Removing Stop Words - a, an, the, are, is etc."
   ]
  },
  {
   "cell_type": "code",
   "execution_count": 12,
   "metadata": {
    "colab": {
     "base_uri": "https://localhost:8080/",
     "height": 34
    },
    "colab_type": "code",
    "id": "q3DgjGz9FgT_",
    "outputId": "0d00c0d6-9757-4046-c0e1-fe0bf9376100"
   },
   "outputs": [
    {
     "name": "stdout",
     "output_type": "stream",
     "text": [
      "['one', 'best', 'movie', 'time', 'period']\n"
     ]
    }
   ],
   "source": [
    "stop_words = set(stopwords.words('english'))\n",
    "clean_Tokens = [word for word in Tokens if word not in stop_words]\n",
    "print(clean_Tokens)"
   ]
  },
  {
   "cell_type": "markdown",
   "metadata": {
    "colab_type": "text",
    "id": "wTbjBljvosx8"
   },
   "source": [
    "#### (4) Lemmatization"
   ]
  },
  {
   "cell_type": "code",
   "execution_count": 13,
   "metadata": {
    "colab": {
     "base_uri": "https://localhost:8080/",
     "height": 34
    },
    "colab_type": "code",
    "id": "mjItEe7DszZI",
    "outputId": "5db4bff3-0759-4e00-80f6-e80b7af12503"
   },
   "outputs": [
    {
     "name": "stdout",
     "output_type": "stream",
     "text": [
      "['one', 'best', 'movie', 'time', 'period']\n"
     ]
    }
   ],
   "source": [
    "lemma = [lemmatizer.lemmatize(word) for word in clean_Tokens]\n",
    "\n",
    "print(lemma)"
   ]
  },
  {
   "cell_type": "markdown",
   "metadata": {
    "colab_type": "text",
    "id": "rr4iL2yBoxp8"
   },
   "source": [
    "#### (5) POS Tagging"
   ]
  },
  {
   "cell_type": "markdown",
   "metadata": {},
   "source": [
    "A part-of-speech tagger, or POS-tagger, processes a sequence of words, and attaches a part of speech tag to each word (don't forget to import nltk)"
   ]
  },
  {
   "cell_type": "code",
   "execution_count": 14,
   "metadata": {},
   "outputs": [
    {
     "data": {
      "text/plain": [
       "['one', 'best', 'movie', 'time', 'period']"
      ]
     },
     "execution_count": 14,
     "metadata": {},
     "output_type": "execute_result"
    }
   ],
   "source": [
    "lemma"
   ]
  },
  {
   "cell_type": "code",
   "execution_count": 15,
   "metadata": {
    "colab": {
     "base_uri": "https://localhost:8080/",
     "height": 34
    },
    "colab_type": "code",
    "id": "enSDIKd6GxV-",
    "outputId": "88973ba9-c5d5-42fb-c590-905320be7d86"
   },
   "outputs": [
    {
     "name": "stdout",
     "output_type": "stream",
     "text": [
      "[('one', 'CD'), ('best', 'JJS'), ('movie', 'NN'), ('time', 'NN'), ('period', 'NN')]\n"
     ]
    }
   ],
   "source": [
    "pos_val = nltk.pos_tag(lemma)\n",
    "print(pos_val)"
   ]
  },
  {
   "cell_type": "markdown",
   "metadata": {},
   "source": [
    "CC, a coordinating conjunction;\n",
    "\n",
    "RB, or adverbs;  \n",
    "\n",
    "IN, a preposition; \n",
    "\n",
    "NN, a noun; \n",
    "\n",
    "JJ, an adjective."
   ]
  },
  {
   "cell_type": "markdown",
   "metadata": {},
   "source": [
    "The most popular tag set is Penn Treebank tagset. Most of the already trained taggers for English are trained on this tag set. To view the complete list, follow this link--> https://www.ling.upenn.edu/courses/Fall_2003/ling001/penn_treebank_pos.html."
   ]
  },
  {
   "cell_type": "code",
   "execution_count": 16,
   "metadata": {
    "colab": {
     "base_uri": "https://localhost:8080/",
     "height": 34
    },
    "colab_type": "code",
    "id": "enSDIKd6GxV-",
    "outputId": "88973ba9-c5d5-42fb-c590-905320be7d86"
   },
   "outputs": [],
   "source": [
    "pos, neg, obj, count = 0,0,0,0"
   ]
  },
  {
   "cell_type": "code",
   "execution_count": 17,
   "metadata": {},
   "outputs": [],
   "source": [
    "# We can get more details about any POS tag using help funciton of NLTK as follows.\n",
    "#nltk.download('tagsets')\n",
    "#nltk.download('universal_tagset')\n",
    "#nltk.help.upenn_tagset(\"JJS$\")"
   ]
  },
  {
   "cell_type": "code",
   "execution_count": 18,
   "metadata": {},
   "outputs": [
    {
     "name": "stdout",
     "output_type": "stream",
     "text": [
      "[('one', 'NUM'), ('best', 'ADJ'), ('movie', 'NOUN'), ('time', 'NOUN'), ('period', 'NOUN')]\n"
     ]
    }
   ],
   "source": [
    "#nltk.download('universal_tagset')\n",
    "pos_val2 = nltk.pos_tag(lemma, tagset='universal')\n",
    "print(pos_val2)"
   ]
  },
  {
   "cell_type": "markdown",
   "metadata": {
    "colab_type": "text",
    "id": "uggZN4TMvnDv"
   },
   "source": [
    "#**Functions for Sentiment Scoring**"
   ]
  },
  {
   "cell_type": "code",
   "execution_count": 19,
   "metadata": {
    "colab": {},
    "colab_type": "code",
    "id": "5QsFpcxUKQZJ"
   },
   "outputs": [],
   "source": [
    "# Convert between the PennTreebank tags to simple Wordnet tags\n",
    "def penn_to_wn(tag):\n",
    "    if tag.startswith('J'):\n",
    "        return wn.ADJ\n",
    "    elif tag.startswith('N'):\n",
    "        return wn.NOUN\n",
    "    elif tag.startswith('R'):\n",
    "        return wn.ADV\n",
    "    elif tag.startswith('V'):\n",
    "        return wn.VERB\n",
    "    elif tag.startswith('C'):\n",
    "        return wn.NOUN\n",
    "    return None"
   ]
  },
  {
   "cell_type": "markdown",
   "metadata": {},
   "source": [
    "you can find the whol peeTreebank here https://www.ling.upenn.edu/courses/Fall_2003/ling001/penn_treebank_pos.html"
   ]
  },
  {
   "cell_type": "code",
   "execution_count": 20,
   "metadata": {
    "colab": {},
    "colab_type": "code",
    "id": "fpz9GfA3Kc22"
   },
   "outputs": [],
   "source": [
    "# Synset is a special kind of a simple interface that is present in NLTK to look up words in WordNet. \n",
    "# Synset instances are the groupings of synonymous words that express the same concept. \n",
    "# Some of the words have only one Synset and some have several.\n",
    "\n",
    "# Returns list of pos-neg and objective score. But returns empty list if not present in SentiWordnet.\n",
    "def get_sentiment(word,tag):\n",
    "    wn_tag = penn_to_wn(tag)\n",
    "    \n",
    "    if wn_tag not in (wn.NOUN, wn.ADJ, wn.ADV, wn.VERB):\n",
    "        return []\n",
    "    \n",
    "    synsets = wn.synsets(word, pos=wn_tag)\n",
    "    if not synsets:\n",
    "        return []\n",
    "\n",
    "    # Take the first sense, the most common\n",
    "    synset = synsets[0]\n",
    "    swn_synset = swn.senti_synset(synset.name())\n",
    "\n",
    "    return [synset.name(), swn_synset.pos_score(),swn_synset.neg_score(),swn_synset.obj_score()]"
   ]
  },
  {
   "cell_type": "code",
   "execution_count": 21,
   "metadata": {},
   "outputs": [
    {
     "data": {
      "text/plain": [
       "['one.n.01', 0.0, 0.0, 1.0]"
      ]
     },
     "execution_count": 21,
     "metadata": {},
     "output_type": "execute_result"
    }
   ],
   "source": [
    "get_sentiment('one', 'CD')"
   ]
  },
  {
   "cell_type": "code",
   "execution_count": 22,
   "metadata": {
    "colab": {
     "base_uri": "https://localhost:8080/",
     "height": 34
    },
    "colab_type": "code",
    "id": "B7nuHaHLKjCH",
    "outputId": "3e190ca3-1ef8-4bad-ea0e-3e97cff3e174"
   },
   "outputs": [
    {
     "name": "stdout",
     "output_type": "stream",
     "text": [
      "[['one.n.01', 0.0, 0.0, 1.0], ['best.a.01', 0.75, 0.0, 0.25], ['movie.n.01', 0.0, 0.0, 1.0], ['time.n.01', 0.0, 0.0, 1.0], ['time_period.n.01', 0.125, 0.125, 0.75]]\n"
     ]
    }
   ],
   "source": [
    "senti_val = [get_sentiment(x,y) for (x,y) in pos_val]\n",
    "print(senti_val)"
   ]
  },
  {
   "cell_type": "markdown",
   "metadata": {
    "colab_type": "text",
    "id": "M9iCiFBqvwKt"
   },
   "source": [
    "#**Aggregating Scores**"
   ]
  },
  {
   "cell_type": "code",
   "execution_count": 23,
   "metadata": {
    "colab": {},
    "colab_type": "code",
    "id": "pdjCUMZuoS9l"
   },
   "outputs": [],
   "source": [
    "for i in range(len(senti_val)):\n",
    "  try:\n",
    "    pos = pos + senti_val[i][1]\n",
    "    neg = neg + senti_val[i][2]\n",
    "    obj = obj + senti_val[i][3]\n",
    "  \n",
    "  except:\n",
    "    continue"
   ]
  },
  {
   "cell_type": "code",
   "execution_count": 24,
   "metadata": {
    "colab": {
     "base_uri": "https://localhost:8080/",
     "height": 68
    },
    "colab_type": "code",
    "id": "yGefTwhdofsw",
    "outputId": "611cbc5b-c9b9-487e-f049-bfe053a599fb"
   },
   "outputs": [
    {
     "name": "stdout",
     "output_type": "stream",
     "text": [
      "Positive weight : 0.875 \n",
      "Negative weight : 0.125 \n",
      "Sentiment of the statement is 0.75 \n"
     ]
    }
   ],
   "source": [
    "print(\"Positive weight : {0} \".format(pos))\n",
    "print(\"Negative weight : {0} \".format(neg))\n",
    "print(\"Sentiment of the statement is {0} \".format(pos - neg))"
   ]
  },
  {
   "cell_type": "markdown",
   "metadata": {
    "colab": {},
    "colab_type": "code",
    "id": "dkYTwqFpShh5"
   },
   "source": [
    "## Part 2 : twitter sentiment Analysis"
   ]
  },
  {
   "cell_type": "code",
   "execution_count": 25,
   "metadata": {},
   "outputs": [],
   "source": [
    "#data\n",
    "#!pip install openpyxl"
   ]
  },
  {
   "cell_type": "code",
   "execution_count": 26,
   "metadata": {},
   "outputs": [],
   "source": [
    "import pandas as pd\n",
    "import numpy as np\n",
    "import matplotlib.pyplot as plt\n",
    "import seaborn as sns"
   ]
  },
  {
   "cell_type": "code",
   "execution_count": 27,
   "metadata": {},
   "outputs": [],
   "source": [
    "Tweet = pd.read_excel(\"US_Airline_Tweets.xlsx\")"
   ]
  },
  {
   "cell_type": "code",
   "execution_count": 28,
   "metadata": {},
   "outputs": [
    {
     "data": {
      "text/html": [
       "<div>\n",
       "<style scoped>\n",
       "    .dataframe tbody tr th:only-of-type {\n",
       "        vertical-align: middle;\n",
       "    }\n",
       "\n",
       "    .dataframe tbody tr th {\n",
       "        vertical-align: top;\n",
       "    }\n",
       "\n",
       "    .dataframe thead th {\n",
       "        text-align: right;\n",
       "    }\n",
       "</style>\n",
       "<table border=\"1\" class=\"dataframe\">\n",
       "  <thead>\n",
       "    <tr style=\"text-align: right;\">\n",
       "      <th></th>\n",
       "      <th>Tweets</th>\n",
       "      <th>Manually_Annotated</th>\n",
       "    </tr>\n",
       "  </thead>\n",
       "  <tbody>\n",
       "    <tr>\n",
       "      <th>0</th>\n",
       "      <td>@VirginAmerica What @dhepburn said.</td>\n",
       "      <td>Neutral</td>\n",
       "    </tr>\n",
       "    <tr>\n",
       "      <th>1</th>\n",
       "      <td>@VirginAmerica plus you've added commercials t...</td>\n",
       "      <td>Positive</td>\n",
       "    </tr>\n",
       "    <tr>\n",
       "      <th>2</th>\n",
       "      <td>@VirginAmerica I didn't today... Must mean I n...</td>\n",
       "      <td>Neutral</td>\n",
       "    </tr>\n",
       "    <tr>\n",
       "      <th>3</th>\n",
       "      <td>@VirginAmerica it's really aggressive to blast...</td>\n",
       "      <td>Negative</td>\n",
       "    </tr>\n",
       "    <tr>\n",
       "      <th>4</th>\n",
       "      <td>@VirginAmerica and it's a really big bad thing...</td>\n",
       "      <td>Negative</td>\n",
       "    </tr>\n",
       "    <tr>\n",
       "      <th>...</th>\n",
       "      <td>...</td>\n",
       "      <td>...</td>\n",
       "    </tr>\n",
       "    <tr>\n",
       "      <th>995</th>\n",
       "      <td>@united #UnitedAirlines Pls Fix #AspenBaggageF...</td>\n",
       "      <td>Negative</td>\n",
       "    </tr>\n",
       "    <tr>\n",
       "      <th>996</th>\n",
       "      <td>@united Read my bio. See who I work with. I ha...</td>\n",
       "      <td>Negative</td>\n",
       "    </tr>\n",
       "    <tr>\n",
       "      <th>997</th>\n",
       "      <td>@united Does customer care have email or a pho...</td>\n",
       "      <td>Negative</td>\n",
       "    </tr>\n",
       "    <tr>\n",
       "      <th>998</th>\n",
       "      <td>Thank you â€œ@united: @TRUU_Tall I can certain...</td>\n",
       "      <td>Positive</td>\n",
       "    </tr>\n",
       "    <tr>\n",
       "      <th>999</th>\n",
       "      <td>@united In the process of recovering their car...</td>\n",
       "      <td>Negative</td>\n",
       "    </tr>\n",
       "  </tbody>\n",
       "</table>\n",
       "<p>1000 rows × 2 columns</p>\n",
       "</div>"
      ],
      "text/plain": [
       "                                                Tweets Manually_Annotated\n",
       "0                  @VirginAmerica What @dhepburn said.            Neutral\n",
       "1    @VirginAmerica plus you've added commercials t...           Positive\n",
       "2    @VirginAmerica I didn't today... Must mean I n...            Neutral\n",
       "3    @VirginAmerica it's really aggressive to blast...           Negative\n",
       "4    @VirginAmerica and it's a really big bad thing...           Negative\n",
       "..                                                 ...                ...\n",
       "995  @united #UnitedAirlines Pls Fix #AspenBaggageF...           Negative\n",
       "996  @united Read my bio. See who I work with. I ha...           Negative\n",
       "997  @united Does customer care have email or a pho...           Negative\n",
       "998  Thank you â€œ@united: @TRUU_Tall I can certain...           Positive\n",
       "999  @united In the process of recovering their car...           Negative\n",
       "\n",
       "[1000 rows x 2 columns]"
      ]
     },
     "execution_count": 28,
     "metadata": {},
     "output_type": "execute_result"
    }
   ],
   "source": [
    "Tweet"
   ]
  },
  {
   "cell_type": "code",
   "execution_count": 29,
   "metadata": {},
   "outputs": [
    {
     "data": {
      "image/png": "[encoded data removed]",
      "text/plain": [
       "<Figure size 432x288 with 1 Axes>"
      ]
     },
     "metadata": {
      "needs_background": "light"
     },
     "output_type": "display_data"
    }
   ],
   "source": [
    "# Classes count\n",
    "sns.countplot(Tweet.Manually_Annotated)\n",
    "plt.show()"
   ]
  },
  {
   "cell_type": "markdown",
   "metadata": {},
   "source": [
    "**N.B : the Dataset is not balanced**"
   ]
  },
  {
   "cell_type": "code",
   "execution_count": 30,
   "metadata": {},
   "outputs": [
    {
     "data": {
      "text/plain": [
       "0                    @VirginAmerica What @dhepburn said.\n",
       "1      @VirginAmerica plus you've added commercials t...\n",
       "2      @VirginAmerica I didn't today... Must mean I n...\n",
       "3      @VirginAmerica it's really aggressive to blast...\n",
       "4      @VirginAmerica and it's a really big bad thing...\n",
       "                             ...                        \n",
       "995    @united #UnitedAirlines Pls Fix #AspenBaggageF...\n",
       "996    @united Read my bio. See who I work with. I ha...\n",
       "997    @united Does customer care have email or a pho...\n",
       "998    Thank you â€œ@united: @TRUU_Tall I can certain...\n",
       "999    @united In the process of recovering their car...\n",
       "Name: Tweets, Length: 1000, dtype: object"
      ]
     },
     "execution_count": 30,
     "metadata": {},
     "output_type": "execute_result"
    }
   ],
   "source": [
    "data = Tweet['Tweets']\n",
    "data"
   ]
  },
  {
   "cell_type": "code",
   "execution_count": 31,
   "metadata": {},
   "outputs": [],
   "source": [
    "#preprocessing\n",
    "def tweet_preprocess(raw_tweet):\n",
    "    \n",
    "    raw_tweet = re.sub(\"@\\w+\",\"\",raw_tweet).strip()\n",
    "    raw_tweet = re.sub(\"http\\S+\",\"\",raw_tweet).strip()\n",
    "    letters_only = re.sub(\"[^a-zA-Z]\", \" \",raw_tweet) \n",
    "    words = letters_only.lower().split()                             \n",
    "    stops = set(stopwords.words(\"english\"))                  \n",
    "    meaningful_words = [w for w in words if not w in stops] \n",
    "    lemma = [lemmatizer.lemmatize(word) for word in meaningful_words]\n",
    "    \n",
    "    return lemma"
   ]
  },
  {
   "cell_type": "code",
   "execution_count": 32,
   "metadata": {},
   "outputs": [
    {
     "data": {
      "text/plain": [
       "0                                                 [said]\n",
       "1           [plus, added, commercial, experience, tacky]\n",
       "2         [today, must, mean, need, take, another, trip]\n",
       "3      [really, aggressive, blast, obnoxious, enterta...\n",
       "4                              [really, big, bad, thing]\n",
       "                             ...                        \n",
       "995    [unitedairlines, pls, fix, aspenbaggagefail, i...\n",
       "996    [read, bio, see, work, never, encountered, air...\n",
       "997    [customer, care, email, phone, rep, speak, man...\n",
       "998    [thank, certainly, take, look, please, follow,...\n",
       "999    [process, recovering, car, rental, condo, rent...\n",
       "Name: Tweets, Length: 1000, dtype: object"
      ]
     },
     "execution_count": 32,
     "metadata": {},
     "output_type": "execute_result"
    }
   ],
   "source": [
    "new_data = data.apply(tweet_preprocess)\n",
    "new_data"
   ]
  },
  {
   "cell_type": "markdown",
   "metadata": {},
   "source": [
    "### for each tweet get it sentiment using SentiWordnet"
   ]
  },
  {
   "cell_type": "code",
   "execution_count": 33,
   "metadata": {},
   "outputs": [
    {
     "data": {
      "text/plain": [
       "0                                          [(said, VBD)]\n",
       "1      [(plus, CC), (added, JJ), (commercial, JJ), (e...\n",
       "2      [(today, NN), (must, MD), (mean, VB), (need, M...\n",
       "3      [(really, RB), (aggressive, JJ), (blast, NN), ...\n",
       "4      [(really, RB), (big, JJ), (bad, JJ), (thing, NN)]\n",
       "                             ...                        \n",
       "995    [(unitedairlines, NNS), (pls, VBP), (fix, JJ),...\n",
       "996    [(read, JJ), (bio, NN), (see, VBP), (work, NN)...\n",
       "997    [(customer, NN), (care, NN), (email, NN), (pho...\n",
       "998    [(thank, NN), (certainly, RB), (take, VBP), (l...\n",
       "999    [(process, NN), (recovering, VBG), (car, NN), ...\n",
       "Name: Tweets, Length: 1000, dtype: object"
      ]
     },
     "execution_count": 33,
     "metadata": {},
     "output_type": "execute_result"
    }
   ],
   "source": [
    "pos_val_tweet = new_data.apply(nltk.pos_tag)\n",
    "pos_val_tweet"
   ]
  },
  {
   "cell_type": "code",
   "execution_count": 34,
   "metadata": {},
   "outputs": [],
   "source": [
    "senti_val_tweet = []\n",
    "for i in range(len(pos_val_tweet)):\n",
    "    sent = [get_sentiment(x,y) for (x,y) in pos_val_tweet[i]]\n",
    "    senti_val_tweet.append(sent)"
   ]
  },
  {
   "cell_type": "code",
   "execution_count": 35,
   "metadata": {},
   "outputs": [
    {
     "data": {
      "text/plain": [
       "[[['state.v.01', 0.0, 0.0, 1.0]],\n",
       " [['asset.n.01', 0.625, 0.0, 0.375],\n",
       "  [],\n",
       "  ['commercial.a.01', 0.0, 0.0, 1.0],\n",
       "  ['experience.n.01', 0.0, 0.0, 1.0],\n",
       "  []],\n",
       " [['today.n.01', 0.125, 0.0, 0.875],\n",
       "  [],\n",
       "  ['mean.v.01', 0.0, 0.0, 1.0],\n",
       "  [],\n",
       "  ['take.v.01', 0.0, 0.0, 1.0],\n",
       "  [],\n",
       "  ['trip.n.01', 0.0, 0.0, 1.0]]]"
      ]
     },
     "execution_count": 35,
     "metadata": {},
     "output_type": "execute_result"
    }
   ],
   "source": [
    "senti_val_tweet[:3]"
   ]
  },
  {
   "cell_type": "markdown",
   "metadata": {},
   "source": [
    "#**Aggregating Scores**"
   ]
  },
  {
   "cell_type": "code",
   "execution_count": 36,
   "metadata": {},
   "outputs": [],
   "source": [
    "tweet_scores = []\n",
    "for i in range(len(senti_val_tweet)):\n",
    "    pos = 0\n",
    "    neg = 0\n",
    "    obj = 0\n",
    "    for j in range(len(senti_val_tweet[i])):\n",
    "        try:\n",
    "            pos = pos + senti_val_tweet[i][j][1]\n",
    "            neg = neg + senti_val_tweet[i][j][2]\n",
    "            obj = obj + senti_val_tweet[i][j][3]\n",
    "        except:\n",
    "            continue\n",
    "    tweet_scores.append((pos,neg,obj))"
   ]
  },
  {
   "cell_type": "code",
   "execution_count": 37,
   "metadata": {},
   "outputs": [
    {
     "data": {
      "text/plain": [
       "[(0.0, 0.0, 1.0),\n",
       " (0.625, 0.0, 2.375),\n",
       " (0.125, 0.0, 3.875),\n",
       " (1.125, 1.125, 6.75),\n",
       " (0.875, 0.75, 2.375),\n",
       " (0.875, 0.625, 8.5),\n",
       " (0.0, 0.0, 7.0),\n",
       " (1.5, 0.875, 3.625),\n",
       " (0.375, 0.0, 0.625),\n",
       " (0.75, 0.25, 4.0)]"
      ]
     },
     "execution_count": 37,
     "metadata": {},
     "output_type": "execute_result"
    }
   ],
   "source": [
    "# First 10 tweets scores\n",
    "tweet_scores[:10]"
   ]
  },
  {
   "cell_type": "code",
   "execution_count": 38,
   "metadata": {},
   "outputs": [],
   "source": [
    "df = zip(data,tweet_scores)"
   ]
  },
  {
   "cell_type": "code",
   "execution_count": 39,
   "metadata": {},
   "outputs": [
    {
     "data": {
      "text/html": [
       "<div>\n",
       "<style scoped>\n",
       "    .dataframe tbody tr th:only-of-type {\n",
       "        vertical-align: middle;\n",
       "    }\n",
       "\n",
       "    .dataframe tbody tr th {\n",
       "        vertical-align: top;\n",
       "    }\n",
       "\n",
       "    .dataframe thead th {\n",
       "        text-align: right;\n",
       "    }\n",
       "</style>\n",
       "<table border=\"1\" class=\"dataframe\">\n",
       "  <thead>\n",
       "    <tr style=\"text-align: right;\">\n",
       "      <th></th>\n",
       "      <th>Tweets</th>\n",
       "      <th>Scores</th>\n",
       "    </tr>\n",
       "  </thead>\n",
       "  <tbody>\n",
       "    <tr>\n",
       "      <th>0</th>\n",
       "      <td>@VirginAmerica What @dhepburn said.</td>\n",
       "      <td>(0.0, 0.0, 1.0)</td>\n",
       "    </tr>\n",
       "    <tr>\n",
       "      <th>1</th>\n",
       "      <td>@VirginAmerica plus you've added commercials t...</td>\n",
       "      <td>(0.625, 0.0, 2.375)</td>\n",
       "    </tr>\n",
       "    <tr>\n",
       "      <th>2</th>\n",
       "      <td>@VirginAmerica I didn't today... Must mean I n...</td>\n",
       "      <td>(0.125, 0.0, 3.875)</td>\n",
       "    </tr>\n",
       "    <tr>\n",
       "      <th>3</th>\n",
       "      <td>@VirginAmerica it's really aggressive to blast...</td>\n",
       "      <td>(1.125, 1.125, 6.75)</td>\n",
       "    </tr>\n",
       "    <tr>\n",
       "      <th>4</th>\n",
       "      <td>@VirginAmerica and it's a really big bad thing...</td>\n",
       "      <td>(0.875, 0.75, 2.375)</td>\n",
       "    </tr>\n",
       "    <tr>\n",
       "      <th>...</th>\n",
       "      <td>...</td>\n",
       "      <td>...</td>\n",
       "    </tr>\n",
       "    <tr>\n",
       "      <th>995</th>\n",
       "      <td>@united #UnitedAirlines Pls Fix #AspenBaggageF...</td>\n",
       "      <td>(0.125, 0.875, 9.0)</td>\n",
       "    </tr>\n",
       "    <tr>\n",
       "      <th>996</th>\n",
       "      <td>@united Read my bio. See who I work with. I ha...</td>\n",
       "      <td>(0.0, 0.875, 5.125)</td>\n",
       "    </tr>\n",
       "    <tr>\n",
       "      <th>997</th>\n",
       "      <td>@united Does customer care have email or a pho...</td>\n",
       "      <td>(0.125, 0.0, 7.875)</td>\n",
       "    </tr>\n",
       "    <tr>\n",
       "      <th>998</th>\n",
       "      <td>Thank you â€œ@united: @TRUU_Tall I can certain...</td>\n",
       "      <td>(1.125, 1.0, 5.875)</td>\n",
       "    </tr>\n",
       "    <tr>\n",
       "      <th>999</th>\n",
       "      <td>@united In the process of recovering their car...</td>\n",
       "      <td>(0.5, 0.25, 10.25)</td>\n",
       "    </tr>\n",
       "  </tbody>\n",
       "</table>\n",
       "<p>1000 rows × 2 columns</p>\n",
       "</div>"
      ],
      "text/plain": [
       "                                                Tweets                Scores\n",
       "0                  @VirginAmerica What @dhepburn said.       (0.0, 0.0, 1.0)\n",
       "1    @VirginAmerica plus you've added commercials t...   (0.625, 0.0, 2.375)\n",
       "2    @VirginAmerica I didn't today... Must mean I n...   (0.125, 0.0, 3.875)\n",
       "3    @VirginAmerica it's really aggressive to blast...  (1.125, 1.125, 6.75)\n",
       "4    @VirginAmerica and it's a really big bad thing...  (0.875, 0.75, 2.375)\n",
       "..                                                 ...                   ...\n",
       "995  @united #UnitedAirlines Pls Fix #AspenBaggageF...   (0.125, 0.875, 9.0)\n",
       "996  @united Read my bio. See who I work with. I ha...   (0.0, 0.875, 5.125)\n",
       "997  @united Does customer care have email or a pho...   (0.125, 0.0, 7.875)\n",
       "998  Thank you â€œ@united: @TRUU_Tall I can certain...   (1.125, 1.0, 5.875)\n",
       "999  @united In the process of recovering their car...    (0.5, 0.25, 10.25)\n",
       "\n",
       "[1000 rows x 2 columns]"
      ]
     },
     "execution_count": 39,
     "metadata": {},
     "output_type": "execute_result"
    }
   ],
   "source": [
    "df = pd.DataFrame(df, columns=['Tweets', 'Scores'])\n",
    "df"
   ]
  },
  {
   "cell_type": "code",
   "execution_count": 40,
   "metadata": {},
   "outputs": [],
   "source": [
    "df['pos'] = df['Scores'].apply(lambda x:x[0])\n",
    "df['neg'] = df['Scores'].apply(lambda x:x[1])\n",
    "df['obj'] = df['Scores'].apply(lambda x:x[2])"
   ]
  },
  {
   "cell_type": "code",
   "execution_count": 41,
   "metadata": {},
   "outputs": [],
   "source": [
    "df.drop(columns = ['Scores'],inplace = True)"
   ]
  },
  {
   "cell_type": "code",
   "execution_count": 42,
   "metadata": {},
   "outputs": [
    {
     "data": {
      "text/html": [
       "<div>\n",
       "<style scoped>\n",
       "    .dataframe tbody tr th:only-of-type {\n",
       "        vertical-align: middle;\n",
       "    }\n",
       "\n",
       "    .dataframe tbody tr th {\n",
       "        vertical-align: top;\n",
       "    }\n",
       "\n",
       "    .dataframe thead th {\n",
       "        text-align: right;\n",
       "    }\n",
       "</style>\n",
       "<table border=\"1\" class=\"dataframe\">\n",
       "  <thead>\n",
       "    <tr style=\"text-align: right;\">\n",
       "      <th></th>\n",
       "      <th>Tweets</th>\n",
       "      <th>pos</th>\n",
       "      <th>neg</th>\n",
       "      <th>obj</th>\n",
       "    </tr>\n",
       "  </thead>\n",
       "  <tbody>\n",
       "    <tr>\n",
       "      <th>0</th>\n",
       "      <td>@VirginAmerica What @dhepburn said.</td>\n",
       "      <td>0.000</td>\n",
       "      <td>0.000</td>\n",
       "      <td>1.000</td>\n",
       "    </tr>\n",
       "    <tr>\n",
       "      <th>1</th>\n",
       "      <td>@VirginAmerica plus you've added commercials t...</td>\n",
       "      <td>0.625</td>\n",
       "      <td>0.000</td>\n",
       "      <td>2.375</td>\n",
       "    </tr>\n",
       "    <tr>\n",
       "      <th>2</th>\n",
       "      <td>@VirginAmerica I didn't today... Must mean I n...</td>\n",
       "      <td>0.125</td>\n",
       "      <td>0.000</td>\n",
       "      <td>3.875</td>\n",
       "    </tr>\n",
       "    <tr>\n",
       "      <th>3</th>\n",
       "      <td>@VirginAmerica it's really aggressive to blast...</td>\n",
       "      <td>1.125</td>\n",
       "      <td>1.125</td>\n",
       "      <td>6.750</td>\n",
       "    </tr>\n",
       "    <tr>\n",
       "      <th>4</th>\n",
       "      <td>@VirginAmerica and it's a really big bad thing...</td>\n",
       "      <td>0.875</td>\n",
       "      <td>0.750</td>\n",
       "      <td>2.375</td>\n",
       "    </tr>\n",
       "    <tr>\n",
       "      <th>...</th>\n",
       "      <td>...</td>\n",
       "      <td>...</td>\n",
       "      <td>...</td>\n",
       "      <td>...</td>\n",
       "    </tr>\n",
       "    <tr>\n",
       "      <th>995</th>\n",
       "      <td>@united #UnitedAirlines Pls Fix #AspenBaggageF...</td>\n",
       "      <td>0.125</td>\n",
       "      <td>0.875</td>\n",
       "      <td>9.000</td>\n",
       "    </tr>\n",
       "    <tr>\n",
       "      <th>996</th>\n",
       "      <td>@united Read my bio. See who I work with. I ha...</td>\n",
       "      <td>0.000</td>\n",
       "      <td>0.875</td>\n",
       "      <td>5.125</td>\n",
       "    </tr>\n",
       "    <tr>\n",
       "      <th>997</th>\n",
       "      <td>@united Does customer care have email or a pho...</td>\n",
       "      <td>0.125</td>\n",
       "      <td>0.000</td>\n",
       "      <td>7.875</td>\n",
       "    </tr>\n",
       "    <tr>\n",
       "      <th>998</th>\n",
       "      <td>Thank you â€œ@united: @TRUU_Tall I can certain...</td>\n",
       "      <td>1.125</td>\n",
       "      <td>1.000</td>\n",
       "      <td>5.875</td>\n",
       "    </tr>\n",
       "    <tr>\n",
       "      <th>999</th>\n",
       "      <td>@united In the process of recovering their car...</td>\n",
       "      <td>0.500</td>\n",
       "      <td>0.250</td>\n",
       "      <td>10.250</td>\n",
       "    </tr>\n",
       "  </tbody>\n",
       "</table>\n",
       "<p>1000 rows × 4 columns</p>\n",
       "</div>"
      ],
      "text/plain": [
       "                                                Tweets    pos    neg     obj\n",
       "0                  @VirginAmerica What @dhepburn said.  0.000  0.000   1.000\n",
       "1    @VirginAmerica plus you've added commercials t...  0.625  0.000   2.375\n",
       "2    @VirginAmerica I didn't today... Must mean I n...  0.125  0.000   3.875\n",
       "3    @VirginAmerica it's really aggressive to blast...  1.125  1.125   6.750\n",
       "4    @VirginAmerica and it's a really big bad thing...  0.875  0.750   2.375\n",
       "..                                                 ...    ...    ...     ...\n",
       "995  @united #UnitedAirlines Pls Fix #AspenBaggageF...  0.125  0.875   9.000\n",
       "996  @united Read my bio. See who I work with. I ha...  0.000  0.875   5.125\n",
       "997  @united Does customer care have email or a pho...  0.125  0.000   7.875\n",
       "998  Thank you â€œ@united: @TRUU_Tall I can certain...  1.125  1.000   5.875\n",
       "999  @united In the process of recovering their car...  0.500  0.250  10.250\n",
       "\n",
       "[1000 rows x 4 columns]"
      ]
     },
     "execution_count": 42,
     "metadata": {},
     "output_type": "execute_result"
    }
   ],
   "source": [
    "df"
   ]
  },
  {
   "cell_type": "markdown",
   "metadata": {},
   "source": [
    "#**Predicting sentiments**"
   ]
  },
  {
   "cell_type": "markdown",
   "metadata": {},
   "source": [
    "### 1 - Traditional method :"
   ]
  },
  {
   "cell_type": "code",
   "execution_count": 43,
   "metadata": {},
   "outputs": [],
   "source": [
    "df2 = df.copy()"
   ]
  },
  {
   "cell_type": "code",
   "execution_count": 44,
   "metadata": {},
   "outputs": [],
   "source": [
    "for i in range(len(df2)) :\n",
    "    \n",
    "    sentiment_score = df2.loc[i,'pos'] - df2.loc[i,'neg']\n",
    "    treshold = 0\n",
    "    \n",
    "    if sentiment_score > treshold:\n",
    "        df2.loc[i,'Predicted_Sentiment'] = 'Positive'\n",
    "        \n",
    "    else:\n",
    "        df2.loc[i,'Predicted_Sentiment'] = 'Negative'\n",
    "        \n",
    "    if df2.loc[i,'pos']==0 and df2.loc[i,'neg']==0:\n",
    "        df2.loc[i,'Predicted_Sentiment'] = 'Neutral'"
   ]
  },
  {
   "cell_type": "code",
   "execution_count": 45,
   "metadata": {},
   "outputs": [
    {
     "data": {
      "text/html": [
       "<div>\n",
       "<style scoped>\n",
       "    .dataframe tbody tr th:only-of-type {\n",
       "        vertical-align: middle;\n",
       "    }\n",
       "\n",
       "    .dataframe tbody tr th {\n",
       "        vertical-align: top;\n",
       "    }\n",
       "\n",
       "    .dataframe thead th {\n",
       "        text-align: right;\n",
       "    }\n",
       "</style>\n",
       "<table border=\"1\" class=\"dataframe\">\n",
       "  <thead>\n",
       "    <tr style=\"text-align: right;\">\n",
       "      <th></th>\n",
       "      <th>Tweets</th>\n",
       "      <th>pos</th>\n",
       "      <th>neg</th>\n",
       "      <th>obj</th>\n",
       "      <th>Predicted_Sentiment</th>\n",
       "    </tr>\n",
       "  </thead>\n",
       "  <tbody>\n",
       "    <tr>\n",
       "      <th>0</th>\n",
       "      <td>@VirginAmerica What @dhepburn said.</td>\n",
       "      <td>0.000</td>\n",
       "      <td>0.000</td>\n",
       "      <td>1.000</td>\n",
       "      <td>Neutral</td>\n",
       "    </tr>\n",
       "    <tr>\n",
       "      <th>1</th>\n",
       "      <td>@VirginAmerica plus you've added commercials t...</td>\n",
       "      <td>0.625</td>\n",
       "      <td>0.000</td>\n",
       "      <td>2.375</td>\n",
       "      <td>Positive</td>\n",
       "    </tr>\n",
       "    <tr>\n",
       "      <th>2</th>\n",
       "      <td>@VirginAmerica I didn't today... Must mean I n...</td>\n",
       "      <td>0.125</td>\n",
       "      <td>0.000</td>\n",
       "      <td>3.875</td>\n",
       "      <td>Positive</td>\n",
       "    </tr>\n",
       "    <tr>\n",
       "      <th>3</th>\n",
       "      <td>@VirginAmerica it's really aggressive to blast...</td>\n",
       "      <td>1.125</td>\n",
       "      <td>1.125</td>\n",
       "      <td>6.750</td>\n",
       "      <td>Negative</td>\n",
       "    </tr>\n",
       "    <tr>\n",
       "      <th>4</th>\n",
       "      <td>@VirginAmerica and it's a really big bad thing...</td>\n",
       "      <td>0.875</td>\n",
       "      <td>0.750</td>\n",
       "      <td>2.375</td>\n",
       "      <td>Positive</td>\n",
       "    </tr>\n",
       "    <tr>\n",
       "      <th>...</th>\n",
       "      <td>...</td>\n",
       "      <td>...</td>\n",
       "      <td>...</td>\n",
       "      <td>...</td>\n",
       "      <td>...</td>\n",
       "    </tr>\n",
       "    <tr>\n",
       "      <th>995</th>\n",
       "      <td>@united #UnitedAirlines Pls Fix #AspenBaggageF...</td>\n",
       "      <td>0.125</td>\n",
       "      <td>0.875</td>\n",
       "      <td>9.000</td>\n",
       "      <td>Negative</td>\n",
       "    </tr>\n",
       "    <tr>\n",
       "      <th>996</th>\n",
       "      <td>@united Read my bio. See who I work with. I ha...</td>\n",
       "      <td>0.000</td>\n",
       "      <td>0.875</td>\n",
       "      <td>5.125</td>\n",
       "      <td>Negative</td>\n",
       "    </tr>\n",
       "    <tr>\n",
       "      <th>997</th>\n",
       "      <td>@united Does customer care have email or a pho...</td>\n",
       "      <td>0.125</td>\n",
       "      <td>0.000</td>\n",
       "      <td>7.875</td>\n",
       "      <td>Positive</td>\n",
       "    </tr>\n",
       "    <tr>\n",
       "      <th>998</th>\n",
       "      <td>Thank you â€œ@united: @TRUU_Tall I can certain...</td>\n",
       "      <td>1.125</td>\n",
       "      <td>1.000</td>\n",
       "      <td>5.875</td>\n",
       "      <td>Positive</td>\n",
       "    </tr>\n",
       "    <tr>\n",
       "      <th>999</th>\n",
       "      <td>@united In the process of recovering their car...</td>\n",
       "      <td>0.500</td>\n",
       "      <td>0.250</td>\n",
       "      <td>10.250</td>\n",
       "      <td>Positive</td>\n",
       "    </tr>\n",
       "  </tbody>\n",
       "</table>\n",
       "<p>1000 rows × 5 columns</p>\n",
       "</div>"
      ],
      "text/plain": [
       "                                                Tweets    pos    neg     obj  \\\n",
       "0                  @VirginAmerica What @dhepburn said.  0.000  0.000   1.000   \n",
       "1    @VirginAmerica plus you've added commercials t...  0.625  0.000   2.375   \n",
       "2    @VirginAmerica I didn't today... Must mean I n...  0.125  0.000   3.875   \n",
       "3    @VirginAmerica it's really aggressive to blast...  1.125  1.125   6.750   \n",
       "4    @VirginAmerica and it's a really big bad thing...  0.875  0.750   2.375   \n",
       "..                                                 ...    ...    ...     ...   \n",
       "995  @united #UnitedAirlines Pls Fix #AspenBaggageF...  0.125  0.875   9.000   \n",
       "996  @united Read my bio. See who I work with. I ha...  0.000  0.875   5.125   \n",
       "997  @united Does customer care have email or a pho...  0.125  0.000   7.875   \n",
       "998  Thank you â€œ@united: @TRUU_Tall I can certain...  1.125  1.000   5.875   \n",
       "999  @united In the process of recovering their car...  0.500  0.250  10.250   \n",
       "\n",
       "    Predicted_Sentiment  \n",
       "0               Neutral  \n",
       "1              Positive  \n",
       "2              Positive  \n",
       "3              Negative  \n",
       "4              Positive  \n",
       "..                  ...  \n",
       "995            Negative  \n",
       "996            Negative  \n",
       "997            Positive  \n",
       "998            Positive  \n",
       "999            Positive  \n",
       "\n",
       "[1000 rows x 5 columns]"
      ]
     },
     "execution_count": 45,
     "metadata": {},
     "output_type": "execute_result"
    }
   ],
   "source": [
    "df2"
   ]
  },
  {
   "cell_type": "code",
   "execution_count": 46,
   "metadata": {},
   "outputs": [
    {
     "name": "stdout",
     "output_type": "stream",
     "text": [
      "              precision    recall  f1-score   support\n",
      "\n",
      "    Negative       0.73      0.49      0.59       521\n",
      "     Neutral       0.44      0.28      0.34       265\n",
      "    Positive       0.29      0.66      0.41       214\n",
      "\n",
      "    accuracy                           0.47      1000\n",
      "   macro avg       0.49      0.48      0.45      1000\n",
      "weighted avg       0.56      0.47      0.48      1000\n",
      "\n"
     ]
    }
   ],
   "source": [
    "# Scoring\n",
    "y_true = Tweet['Manually_Annotated']\n",
    "y_pred = df2['Predicted_Sentiment']\n",
    "\n",
    "print(classification_report(y_true, y_pred))"
   ]
  },
  {
   "cell_type": "markdown",
   "metadata": {},
   "source": [
    "### 2 - Machine Learning :"
   ]
  },
  {
   "cell_type": "code",
   "execution_count": 47,
   "metadata": {},
   "outputs": [],
   "source": [
    "# evaluate a model :\n",
    "def eval(model,X,y):\n",
    "    y_pred = model.predict(X)\n",
    "    \n",
    "    cr = classification_report(y_test,model.predict(X_test), target_names=['Negative','Neutral','Positive'],output_dict=True)\n",
    "    macro_avg = pd.DataFrame(cr).T['f1-score'].iloc[4]\n",
    "    acc = pd.DataFrame(cr).T['f1-score'].iloc[3]\n",
    "    \n",
    "    print(str(model))\n",
    "    print('-'*60)\n",
    "    print(classification_report(y, y_pred,target_names=['Negative','Neutral','Positive']))\n",
    "    \n",
    "    return [macro_avg, acc]"
   ]
  },
  {
   "cell_type": "code",
   "execution_count": 48,
   "metadata": {},
   "outputs": [],
   "source": [
    "mapper = {'Negative':0, 'Neutral':1, 'Positive':2}"
   ]
  },
  {
   "cell_type": "code",
   "execution_count": 49,
   "metadata": {},
   "outputs": [],
   "source": [
    "X = df[['pos','neg','obj']]\n",
    "y = Tweet['Manually_Annotated'].map(mapper)"
   ]
  },
  {
   "cell_type": "code",
   "execution_count": 50,
   "metadata": {},
   "outputs": [],
   "source": [
    "X_train, X_test, y_train, y_test = train_test_split(X,y, test_size=0.2, random_state=30)"
   ]
  },
  {
   "cell_type": "code",
   "execution_count": 51,
   "metadata": {},
   "outputs": [
    {
     "name": "stdout",
     "output_type": "stream",
     "text": [
      "X_train shape : (800, 3)\n",
      "y_train shape : (800,)\n",
      "X_test shape : (200, 3)\n",
      "y_test shape : (200,)\n"
     ]
    }
   ],
   "source": [
    "print(\"X_train shape :\",X_train.shape)\n",
    "print(\"y_train shape :\",y_train.shape)\n",
    "print(\"X_test shape :\",X_test.shape)\n",
    "print(\"y_test shape :\",y_test.shape)"
   ]
  },
  {
   "cell_type": "code",
   "execution_count": 52,
   "metadata": {},
   "outputs": [],
   "source": [
    "results = {}"
   ]
  },
  {
   "cell_type": "markdown",
   "metadata": {},
   "source": [
    "### Random Forest"
   ]
  },
  {
   "cell_type": "code",
   "execution_count": 53,
   "metadata": {},
   "outputs": [
    {
     "data": {
      "text/plain": [
       "RandomForestClassifier()"
      ]
     },
     "execution_count": 53,
     "metadata": {},
     "output_type": "execute_result"
    }
   ],
   "source": [
    "rfc = RandomForestClassifier()\n",
    "rfc.fit(X_train, y_train)"
   ]
  },
  {
   "cell_type": "code",
   "execution_count": 54,
   "metadata": {},
   "outputs": [
    {
     "name": "stdout",
     "output_type": "stream",
     "text": [
      "RandomForestClassifier()\n",
      "------------------------------------------------------------\n",
      "              precision    recall  f1-score   support\n",
      "\n",
      "    Negative       0.87      0.88      0.87       417\n",
      "     Neutral       0.66      0.76      0.71       210\n",
      "    Positive       0.74      0.60      0.66       173\n",
      "\n",
      "    accuracy                           0.79       800\n",
      "   macro avg       0.76      0.74      0.75       800\n",
      "weighted avg       0.79      0.79      0.78       800\n",
      "\n"
     ]
    },
    {
     "data": {
      "text/plain": [
       "[0.4576489533011272, 0.515]"
      ]
     },
     "execution_count": 54,
     "metadata": {},
     "output_type": "execute_result"
    }
   ],
   "source": [
    "# On train set\n",
    "eval(rfc, X_train, y_train)"
   ]
  },
  {
   "cell_type": "code",
   "execution_count": 55,
   "metadata": {},
   "outputs": [
    {
     "name": "stdout",
     "output_type": "stream",
     "text": [
      "RandomForestClassifier()\n",
      "------------------------------------------------------------\n",
      "              precision    recall  f1-score   support\n",
      "\n",
      "    Negative       0.66      0.65      0.66       104\n",
      "     Neutral       0.37      0.40      0.38        55\n",
      "    Positive       0.35      0.32      0.33        41\n",
      "\n",
      "    accuracy                           0.52       200\n",
      "   macro avg       0.46      0.46      0.46       200\n",
      "weighted avg       0.52      0.52      0.52       200\n",
      "\n"
     ]
    }
   ],
   "source": [
    "# On test set\n",
    "results['RandomForest'] = eval(rfc, X_test, y_test)"
   ]
  },
  {
   "cell_type": "markdown",
   "metadata": {},
   "source": [
    "### Decision Tree"
   ]
  },
  {
   "cell_type": "code",
   "execution_count": 56,
   "metadata": {},
   "outputs": [
    {
     "data": {
      "text/plain": [
       "DecisionTreeClassifier(min_samples_split=10)"
      ]
     },
     "execution_count": 56,
     "metadata": {},
     "output_type": "execute_result"
    }
   ],
   "source": [
    "dtc = DecisionTreeClassifier(min_samples_split = 10)\n",
    "dtc.fit(X_train, y_train)"
   ]
  },
  {
   "cell_type": "code",
   "execution_count": 57,
   "metadata": {},
   "outputs": [
    {
     "name": "stdout",
     "output_type": "stream",
     "text": [
      "DecisionTreeClassifier(min_samples_split=10)\n",
      "------------------------------------------------------------\n",
      "              precision    recall  f1-score   support\n",
      "\n",
      "    Negative       0.77      0.86      0.81       417\n",
      "     Neutral       0.61      0.69      0.65       210\n",
      "    Positive       0.68      0.39      0.49       173\n",
      "\n",
      "    accuracy                           0.71       800\n",
      "   macro avg       0.69      0.65      0.65       800\n",
      "weighted avg       0.71      0.71      0.70       800\n",
      "\n"
     ]
    },
    {
     "data": {
      "text/plain": [
       "[0.44392498783550977, 0.505]"
      ]
     },
     "execution_count": 57,
     "metadata": {},
     "output_type": "execute_result"
    }
   ],
   "source": [
    "# On train set\n",
    "eval(dtc, X_train, y_train)"
   ]
  },
  {
   "cell_type": "code",
   "execution_count": 58,
   "metadata": {},
   "outputs": [
    {
     "name": "stdout",
     "output_type": "stream",
     "text": [
      "DecisionTreeClassifier(min_samples_split=10)\n",
      "------------------------------------------------------------\n",
      "              precision    recall  f1-score   support\n",
      "\n",
      "    Negative       0.62      0.65      0.64       104\n",
      "     Neutral       0.34      0.40      0.37        55\n",
      "    Positive       0.41      0.27      0.32        41\n",
      "\n",
      "    accuracy                           0.51       200\n",
      "   macro avg       0.46      0.44      0.44       200\n",
      "weighted avg       0.50      0.51      0.50       200\n",
      "\n"
     ]
    }
   ],
   "source": [
    "# On test set\n",
    "results['DecisionTree'] = eval(dtc, X_test, y_test)"
   ]
  },
  {
   "cell_type": "markdown",
   "metadata": {},
   "source": [
    "### Logistic Regression :"
   ]
  },
  {
   "cell_type": "code",
   "execution_count": 59,
   "metadata": {},
   "outputs": [
    {
     "data": {
      "text/plain": [
       "LogisticRegression()"
      ]
     },
     "execution_count": 59,
     "metadata": {},
     "output_type": "execute_result"
    }
   ],
   "source": [
    "lr = LogisticRegression()\n",
    "lr.fit(X_train, y_train)"
   ]
  },
  {
   "cell_type": "code",
   "execution_count": 60,
   "metadata": {},
   "outputs": [
    {
     "name": "stdout",
     "output_type": "stream",
     "text": [
      "LogisticRegression()\n",
      "------------------------------------------------------------\n",
      "              precision    recall  f1-score   support\n",
      "\n",
      "    Negative       0.66      0.85      0.75       417\n",
      "     Neutral       0.47      0.41      0.44       210\n",
      "    Positive       0.44      0.21      0.28       173\n",
      "\n",
      "    accuracy                           0.60       800\n",
      "   macro avg       0.53      0.49      0.49       800\n",
      "weighted avg       0.57      0.60      0.57       800\n",
      "\n"
     ]
    },
    {
     "data": {
      "text/plain": [
       "[0.4891594516594517, 0.585]"
      ]
     },
     "execution_count": 60,
     "metadata": {},
     "output_type": "execute_result"
    }
   ],
   "source": [
    "# On train set\n",
    "eval(lr, X_train, y_train)"
   ]
  },
  {
   "cell_type": "code",
   "execution_count": 61,
   "metadata": {},
   "outputs": [
    {
     "name": "stdout",
     "output_type": "stream",
     "text": [
      "LogisticRegression()\n",
      "------------------------------------------------------------\n",
      "              precision    recall  f1-score   support\n",
      "\n",
      "    Negative       0.67      0.82      0.74       104\n",
      "     Neutral       0.44      0.40      0.42        55\n",
      "    Positive       0.43      0.24      0.31        41\n",
      "\n",
      "    accuracy                           0.58       200\n",
      "   macro avg       0.51      0.49      0.49       200\n",
      "weighted avg       0.56      0.58      0.56       200\n",
      "\n"
     ]
    }
   ],
   "source": [
    "# On test set\n",
    "results['LogisticRegression'] = eval(lr, X_test, y_test)"
   ]
  },
  {
   "cell_type": "markdown",
   "metadata": {},
   "source": [
    "### KNN"
   ]
  },
  {
   "cell_type": "code",
   "execution_count": 62,
   "metadata": {},
   "outputs": [
    {
     "data": {
      "text/plain": [
       "KNeighborsClassifier()"
      ]
     },
     "execution_count": 62,
     "metadata": {},
     "output_type": "execute_result"
    }
   ],
   "source": [
    "knn = KNeighborsClassifier(n_neighbors=5)\n",
    "knn.fit(X_train, y_train)"
   ]
  },
  {
   "cell_type": "code",
   "execution_count": 63,
   "metadata": {},
   "outputs": [
    {
     "name": "stdout",
     "output_type": "stream",
     "text": [
      "KNeighborsClassifier()\n",
      "------------------------------------------------------------\n",
      "              precision    recall  f1-score   support\n",
      "\n",
      "    Negative       0.69      0.90      0.78       417\n",
      "     Neutral       0.60      0.44      0.51       210\n",
      "    Positive       0.58      0.35      0.44       173\n",
      "\n",
      "    accuracy                           0.66       800\n",
      "   macro avg       0.62      0.56      0.58       800\n",
      "weighted avg       0.64      0.66      0.64       800\n",
      "\n"
     ]
    },
    {
     "data": {
      "text/plain": [
       "[0.4470033795691568, 0.535]"
      ]
     },
     "execution_count": 63,
     "metadata": {},
     "output_type": "execute_result"
    }
   ],
   "source": [
    "# On train set\n",
    "eval(knn, X_train, y_train)"
   ]
  },
  {
   "cell_type": "code",
   "execution_count": 64,
   "metadata": {},
   "outputs": [
    {
     "name": "stdout",
     "output_type": "stream",
     "text": [
      "KNeighborsClassifier()\n",
      "------------------------------------------------------------\n",
      "              precision    recall  f1-score   support\n",
      "\n",
      "    Negative       0.61      0.76      0.68       104\n",
      "     Neutral       0.46      0.31      0.37        55\n",
      "    Positive       0.32      0.27      0.29        41\n",
      "\n",
      "    accuracy                           0.54       200\n",
      "   macro avg       0.47      0.45      0.45       200\n",
      "weighted avg       0.51      0.54      0.51       200\n",
      "\n"
     ]
    }
   ],
   "source": [
    "# On test set\n",
    "results['KNN'] = eval(knn, X_test, y_test)"
   ]
  },
  {
   "cell_type": "markdown",
   "metadata": {},
   "source": [
    "### Linear SVM :"
   ]
  },
  {
   "cell_type": "code",
   "execution_count": 65,
   "metadata": {},
   "outputs": [],
   "source": [
    "from sklearn.preprocessing import StandardScaler\n",
    "std = StandardScaler()\n",
    "X_train_sc = std.fit_transform(X_train)\n",
    "X_test_sc = std.transform(X_test)"
   ]
  },
  {
   "cell_type": "code",
   "execution_count": 66,
   "metadata": {},
   "outputs": [
    {
     "data": {
      "text/plain": [
       "LinearSVC()"
      ]
     },
     "execution_count": 66,
     "metadata": {},
     "output_type": "execute_result"
    }
   ],
   "source": [
    "lsvm = LinearSVC()\n",
    "lsvm.fit(X_train_sc, y_train)"
   ]
  },
  {
   "cell_type": "code",
   "execution_count": 67,
   "metadata": {},
   "outputs": [
    {
     "name": "stdout",
     "output_type": "stream",
     "text": [
      "LinearSVC()\n",
      "------------------------------------------------------------\n",
      "              precision    recall  f1-score   support\n",
      "\n",
      "    Negative       0.66      0.86      0.75       417\n",
      "     Neutral       0.47      0.41      0.44       210\n",
      "    Positive       0.49      0.19      0.27       173\n",
      "\n",
      "    accuracy                           0.60       800\n",
      "   macro avg       0.54      0.49      0.49       800\n",
      "weighted avg       0.57      0.60      0.56       800\n",
      "\n"
     ]
    },
    {
     "data": {
      "text/plain": [
       "[0.2280701754385965, 0.52]"
      ]
     },
     "execution_count": 67,
     "metadata": {},
     "output_type": "execute_result"
    }
   ],
   "source": [
    "# On train set\n",
    "eval(lsvm, X_train_sc, y_train)"
   ]
  },
  {
   "cell_type": "code",
   "execution_count": 68,
   "metadata": {},
   "outputs": [
    {
     "name": "stdout",
     "output_type": "stream",
     "text": [
      "LinearSVC()\n",
      "------------------------------------------------------------\n",
      "              precision    recall  f1-score   support\n",
      "\n",
      "    Negative       0.68      0.87      0.76       104\n",
      "     Neutral       0.45      0.40      0.42        55\n",
      "    Positive       0.50      0.22      0.31        41\n",
      "\n",
      "    accuracy                           0.60       200\n",
      "   macro avg       0.54      0.49      0.50       200\n",
      "weighted avg       0.58      0.60      0.57       200\n",
      "\n"
     ]
    }
   ],
   "source": [
    "# On test set\n",
    "results['LinearSVM'] = eval(lsvm, X_test_sc, y_test)"
   ]
  },
  {
   "cell_type": "markdown",
   "metadata": {},
   "source": [
    "### Gaussian Naive Bayes"
   ]
  },
  {
   "cell_type": "code",
   "execution_count": 69,
   "metadata": {},
   "outputs": [
    {
     "data": {
      "text/plain": [
       "GaussianNB()"
      ]
     },
     "execution_count": 69,
     "metadata": {},
     "output_type": "execute_result"
    }
   ],
   "source": [
    "gnb = GaussianNB()\n",
    "gnb.fit(X_train, y_train)"
   ]
  },
  {
   "cell_type": "code",
   "execution_count": 70,
   "metadata": {},
   "outputs": [
    {
     "name": "stdout",
     "output_type": "stream",
     "text": [
      "GaussianNB()\n",
      "------------------------------------------------------------\n",
      "              precision    recall  f1-score   support\n",
      "\n",
      "    Negative       0.72      0.75      0.73       417\n",
      "     Neutral       0.41      0.60      0.49       210\n",
      "    Positive       0.44      0.16      0.23       173\n",
      "\n",
      "    accuracy                           0.58       800\n",
      "   macro avg       0.52      0.50      0.48       800\n",
      "weighted avg       0.58      0.58      0.56       800\n",
      "\n"
     ]
    },
    {
     "data": {
      "text/plain": [
       "[0.50843776106934, 0.595]"
      ]
     },
     "execution_count": 70,
     "metadata": {},
     "output_type": "execute_result"
    }
   ],
   "source": [
    "# On train set\n",
    "eval(gnb, X_train, y_train)"
   ]
  },
  {
   "cell_type": "code",
   "execution_count": 71,
   "metadata": {},
   "outputs": [
    {
     "name": "stdout",
     "output_type": "stream",
     "text": [
      "GaussianNB()\n",
      "------------------------------------------------------------\n",
      "              precision    recall  f1-score   support\n",
      "\n",
      "    Negative       0.73      0.74      0.73       104\n",
      "     Neutral       0.44      0.62      0.51        55\n",
      "    Positive       0.50      0.20      0.28        41\n",
      "\n",
      "    accuracy                           0.59       200\n",
      "   macro avg       0.55      0.52      0.51       200\n",
      "weighted avg       0.60      0.59      0.58       200\n",
      "\n"
     ]
    }
   ],
   "source": [
    "# On test set\n",
    "results['GaussianNB'] = eval(gnb, X_test, y_test)"
   ]
  },
  {
   "cell_type": "markdown",
   "metadata": {},
   "source": [
    "### Artificial Neural Network :"
   ]
  },
  {
   "cell_type": "code",
   "execution_count": 72,
   "metadata": {},
   "outputs": [],
   "source": [
    "import tensorflow as tf\n",
    "from tensorflow import keras"
   ]
  },
  {
   "cell_type": "markdown",
   "metadata": {},
   "source": [
    "#### Construct the model :"
   ]
  },
  {
   "cell_type": "code",
   "execution_count": 73,
   "metadata": {},
   "outputs": [],
   "source": [
    "model = keras.models.Sequential()\n",
    "model.add(keras.layers.Flatten(input_shape=[3]))\n",
    "model.add(keras.layers.Dense(100, activation=\"relu\"))\n",
    "model.add(keras.layers.Dense(50, activation=\"relu\"))\n",
    "model.add(keras.layers.Dense(3, activation=\"softmax\"))"
   ]
  },
  {
   "cell_type": "code",
   "execution_count": 74,
   "metadata": {},
   "outputs": [
    {
     "name": "stdout",
     "output_type": "stream",
     "text": [
      "Model: \"sequential\"\n",
      "_________________________________________________________________\n",
      " Layer (type)                Output Shape              Param #   \n",
      "=================================================================\n",
      " flatten (Flatten)           (None, 3)                 0         \n",
      "                                                                 \n",
      " dense (Dense)               (None, 100)               400       \n",
      "                                                                 \n",
      " dense_1 (Dense)             (None, 50)                5050      \n",
      "                                                                 \n",
      " dense_2 (Dense)             (None, 3)                 153       \n",
      "                                                                 \n",
      "=================================================================\n",
      "Total params: 5,603\n",
      "Trainable params: 5,603\n",
      "Non-trainable params: 0\n",
      "_________________________________________________________________\n"
     ]
    }
   ],
   "source": [
    "model.summary()"
   ]
  },
  {
   "cell_type": "markdown",
   "metadata": {},
   "source": [
    "#### Compile the model :"
   ]
  },
  {
   "cell_type": "code",
   "execution_count": 75,
   "metadata": {},
   "outputs": [],
   "source": [
    "model.compile(loss=\"sparse_categorical_crossentropy\",\n",
    "              optimizer=\"sgd\",\n",
    "              metrics=['accuracy'])"
   ]
  },
  {
   "cell_type": "markdown",
   "metadata": {},
   "source": [
    "#### Train the model :"
   ]
  },
  {
   "cell_type": "code",
   "execution_count": 76,
   "metadata": {},
   "outputs": [
    {
     "name": "stdout",
     "output_type": "stream",
     "text": [
      "Epoch 1/20\n",
      "25/25 [==============================] - 1s 9ms/step - loss: 0.9917 - accuracy: 0.4950 - val_loss: 0.9648 - val_accuracy: 0.5150\n",
      "Epoch 2/20\n",
      "25/25 [==============================] - 0s 4ms/step - loss: 0.9571 - accuracy: 0.5250 - val_loss: 0.9609 - val_accuracy: 0.5250\n",
      "Epoch 3/20\n",
      "25/25 [==============================] - 0s 4ms/step - loss: 0.9519 - accuracy: 0.5288 - val_loss: 0.9606 - val_accuracy: 0.5250\n",
      "Epoch 4/20\n",
      "25/25 [==============================] - 0s 4ms/step - loss: 0.9494 - accuracy: 0.5288 - val_loss: 0.9605 - val_accuracy: 0.5250\n",
      "Epoch 5/20\n",
      "25/25 [==============================] - 0s 4ms/step - loss: 0.9484 - accuracy: 0.5288 - val_loss: 0.9565 - val_accuracy: 0.5250\n",
      "Epoch 6/20\n",
      "25/25 [==============================] - 0s 4ms/step - loss: 0.9445 - accuracy: 0.5325 - val_loss: 0.9537 - val_accuracy: 0.5350\n",
      "Epoch 7/20\n",
      "25/25 [==============================] - 0s 3ms/step - loss: 0.9420 - accuracy: 0.5350 - val_loss: 0.9526 - val_accuracy: 0.5350\n",
      "Epoch 8/20\n",
      "25/25 [==============================] - 0s 4ms/step - loss: 0.9390 - accuracy: 0.5400 - val_loss: 0.9539 - val_accuracy: 0.5300\n",
      "Epoch 9/20\n",
      "25/25 [==============================] - 0s 4ms/step - loss: 0.9359 - accuracy: 0.5400 - val_loss: 0.9467 - val_accuracy: 0.5350\n",
      "Epoch 10/20\n",
      "25/25 [==============================] - 0s 4ms/step - loss: 0.9330 - accuracy: 0.5425 - val_loss: 0.9453 - val_accuracy: 0.5350\n",
      "Epoch 11/20\n",
      "25/25 [==============================] - 0s 3ms/step - loss: 0.9328 - accuracy: 0.5412 - val_loss: 0.9435 - val_accuracy: 0.5350\n",
      "Epoch 12/20\n",
      "25/25 [==============================] - 0s 4ms/step - loss: 0.9299 - accuracy: 0.5425 - val_loss: 0.9431 - val_accuracy: 0.5350\n",
      "Epoch 13/20\n",
      "25/25 [==============================] - 0s 3ms/step - loss: 0.9269 - accuracy: 0.5425 - val_loss: 0.9406 - val_accuracy: 0.5350\n",
      "Epoch 14/20\n",
      "25/25 [==============================] - 0s 4ms/step - loss: 0.9261 - accuracy: 0.5475 - val_loss: 0.9412 - val_accuracy: 0.5300\n",
      "Epoch 15/20\n",
      "25/25 [==============================] - 0s 4ms/step - loss: 0.9218 - accuracy: 0.5487 - val_loss: 0.9420 - val_accuracy: 0.5350\n",
      "Epoch 16/20\n",
      "25/25 [==============================] - 0s 3ms/step - loss: 0.9209 - accuracy: 0.5450 - val_loss: 0.9348 - val_accuracy: 0.5400\n",
      "Epoch 17/20\n",
      "25/25 [==============================] - 0s 4ms/step - loss: 0.9191 - accuracy: 0.5575 - val_loss: 0.9333 - val_accuracy: 0.5600\n",
      "Epoch 18/20\n",
      "25/25 [==============================] - 0s 4ms/step - loss: 0.9184 - accuracy: 0.5638 - val_loss: 0.9318 - val_accuracy: 0.5600\n",
      "Epoch 19/20\n",
      "25/25 [==============================] - 0s 3ms/step - loss: 0.9153 - accuracy: 0.5625 - val_loss: 0.9328 - val_accuracy: 0.5650\n",
      "Epoch 20/20\n",
      "25/25 [==============================] - 0s 4ms/step - loss: 0.9147 - accuracy: 0.5625 - val_loss: 0.9320 - val_accuracy: 0.5750\n"
     ]
    }
   ],
   "source": [
    "history = model.fit(X_train, y_train, batch_size=32, epochs=20,\n",
    "                    validation_data=(X_test, y_test))"
   ]
  },
  {
   "cell_type": "markdown",
   "metadata": {},
   "source": [
    "#### Plot learning Curves :"
   ]
  },
  {
   "cell_type": "code",
   "execution_count": 77,
   "metadata": {},
   "outputs": [
    {
     "data": {
      "image/png": "[encoded data removed]",
      "text/plain": [
       "<Figure size 576x432 with 1 Axes>"
      ]
     },
     "metadata": {
      "needs_background": "light"
     },
     "output_type": "display_data"
    }
   ],
   "source": [
    "pd.DataFrame(history.history).plot(figsize=(8, 6))\n",
    "plt.grid(True)\n",
    "plt.xlabel('Epochs')\n",
    "plt.show()"
   ]
  },
  {
   "cell_type": "markdown",
   "metadata": {},
   "source": [
    "#### Evaluate the model :"
   ]
  },
  {
   "cell_type": "code",
   "execution_count": 78,
   "metadata": {},
   "outputs": [
    {
     "name": "stdout",
     "output_type": "stream",
     "text": [
      "7/7 [==============================] - 0s 2ms/step\n"
     ]
    }
   ],
   "source": [
    "pred = model.predict(X_test)\n",
    "y_pred = []\n",
    "for i in range(len(pred)):\n",
    "    y_pred.append(np.argmax(pred[i]))"
   ]
  },
  {
   "cell_type": "code",
   "execution_count": 79,
   "metadata": {},
   "outputs": [],
   "source": [
    "cr = classification_report(y_test,y_pred, target_names=['Negative','Neutral','Positive'],output_dict=True)\n",
    "macro_avg = pd.DataFrame(cr).T['f1-score'].iloc[4]\n",
    "acc = pd.DataFrame(cr).T['f1-score'].iloc[3]\n",
    "results['ANN'] = [macro_avg,acc]"
   ]
  },
  {
   "cell_type": "code",
   "execution_count": 80,
   "metadata": {},
   "outputs": [
    {
     "name": "stdout",
     "output_type": "stream",
     "text": [
      "              precision    recall  f1-score   support\n",
      "\n",
      "    Negative       0.59      0.95      0.73       104\n",
      "     Neutral       0.43      0.24      0.31        55\n",
      "    Positive       1.00      0.07      0.14        41\n",
      "\n",
      "    accuracy                           0.57       200\n",
      "   macro avg       0.68      0.42      0.39       200\n",
      "weighted avg       0.63      0.57      0.49       200\n",
      "\n"
     ]
    }
   ],
   "source": [
    "# On test set\n",
    "print(classification_report(y_test, y_pred, target_names=['Negative', 'Neutral', 'Positive']))"
   ]
  },
  {
   "cell_type": "markdown",
   "metadata": {},
   "source": [
    "## Conclusion :"
   ]
  },
  {
   "cell_type": "code",
   "execution_count": 81,
   "metadata": {},
   "outputs": [],
   "source": [
    "scores = pd.DataFrame(results, index = ['macro_avg_f1', 'accuracy']).T"
   ]
  },
  {
   "cell_type": "code",
   "execution_count": 82,
   "metadata": {},
   "outputs": [
    {
     "data": {
      "text/html": [
       "<div>\n",
       "<style scoped>\n",
       "    .dataframe tbody tr th:only-of-type {\n",
       "        vertical-align: middle;\n",
       "    }\n",
       "\n",
       "    .dataframe tbody tr th {\n",
       "        vertical-align: top;\n",
       "    }\n",
       "\n",
       "    .dataframe thead th {\n",
       "        text-align: right;\n",
       "    }\n",
       "</style>\n",
       "<table border=\"1\" class=\"dataframe\">\n",
       "  <thead>\n",
       "    <tr style=\"text-align: right;\">\n",
       "      <th></th>\n",
       "      <th>macro_avg_f1</th>\n",
       "      <th>accuracy</th>\n",
       "    </tr>\n",
       "  </thead>\n",
       "  <tbody>\n",
       "    <tr>\n",
       "      <th>GaussianNB</th>\n",
       "      <td>0.508438</td>\n",
       "      <td>0.595</td>\n",
       "    </tr>\n",
       "    <tr>\n",
       "      <th>LogisticRegression</th>\n",
       "      <td>0.489159</td>\n",
       "      <td>0.585</td>\n",
       "    </tr>\n",
       "    <tr>\n",
       "      <th>ANN</th>\n",
       "      <td>0.390958</td>\n",
       "      <td>0.575</td>\n",
       "    </tr>\n",
       "    <tr>\n",
       "      <th>KNN</th>\n",
       "      <td>0.447003</td>\n",
       "      <td>0.535</td>\n",
       "    </tr>\n",
       "    <tr>\n",
       "      <th>LinearSVM</th>\n",
       "      <td>0.228070</td>\n",
       "      <td>0.520</td>\n",
       "    </tr>\n",
       "    <tr>\n",
       "      <th>RandomForest</th>\n",
       "      <td>0.457649</td>\n",
       "      <td>0.515</td>\n",
       "    </tr>\n",
       "    <tr>\n",
       "      <th>DecisionTree</th>\n",
       "      <td>0.443925</td>\n",
       "      <td>0.505</td>\n",
       "    </tr>\n",
       "  </tbody>\n",
       "</table>\n",
       "</div>"
      ],
      "text/plain": [
       "                    macro_avg_f1  accuracy\n",
       "GaussianNB              0.508438     0.595\n",
       "LogisticRegression      0.489159     0.585\n",
       "ANN                     0.390958     0.575\n",
       "KNN                     0.447003     0.535\n",
       "LinearSVM               0.228070     0.520\n",
       "RandomForest            0.457649     0.515\n",
       "DecisionTree            0.443925     0.505"
      ]
     },
     "execution_count": 82,
     "metadata": {},
     "output_type": "execute_result"
    }
   ],
   "source": [
    "# Models sorted by accuracy on test set :\n",
    "scores.sort_values('accuracy',ascending=False)"
   ]
  },
  {
   "cell_type": "code",
   "execution_count": 83,
   "metadata": {},
   "outputs": [
    {
     "data": {
      "text/html": [
       "<div>\n",
       "<style scoped>\n",
       "    .dataframe tbody tr th:only-of-type {\n",
       "        vertical-align: middle;\n",
       "    }\n",
       "\n",
       "    .dataframe tbody tr th {\n",
       "        vertical-align: top;\n",
       "    }\n",
       "\n",
       "    .dataframe thead th {\n",
       "        text-align: right;\n",
       "    }\n",
       "</style>\n",
       "<table border=\"1\" class=\"dataframe\">\n",
       "  <thead>\n",
       "    <tr style=\"text-align: right;\">\n",
       "      <th></th>\n",
       "      <th>macro_avg_f1</th>\n",
       "      <th>accuracy</th>\n",
       "    </tr>\n",
       "  </thead>\n",
       "  <tbody>\n",
       "    <tr>\n",
       "      <th>GaussianNB</th>\n",
       "      <td>0.508438</td>\n",
       "      <td>0.595</td>\n",
       "    </tr>\n",
       "    <tr>\n",
       "      <th>LogisticRegression</th>\n",
       "      <td>0.489159</td>\n",
       "      <td>0.585</td>\n",
       "    </tr>\n",
       "    <tr>\n",
       "      <th>RandomForest</th>\n",
       "      <td>0.457649</td>\n",
       "      <td>0.515</td>\n",
       "    </tr>\n",
       "    <tr>\n",
       "      <th>KNN</th>\n",
       "      <td>0.447003</td>\n",
       "      <td>0.535</td>\n",
       "    </tr>\n",
       "    <tr>\n",
       "      <th>DecisionTree</th>\n",
       "      <td>0.443925</td>\n",
       "      <td>0.505</td>\n",
       "    </tr>\n",
       "    <tr>\n",
       "      <th>ANN</th>\n",
       "      <td>0.390958</td>\n",
       "      <td>0.575</td>\n",
       "    </tr>\n",
       "    <tr>\n",
       "      <th>LinearSVM</th>\n",
       "      <td>0.228070</td>\n",
       "      <td>0.520</td>\n",
       "    </tr>\n",
       "  </tbody>\n",
       "</table>\n",
       "</div>"
      ],
      "text/plain": [
       "                    macro_avg_f1  accuracy\n",
       "GaussianNB              0.508438     0.595\n",
       "LogisticRegression      0.489159     0.585\n",
       "RandomForest            0.457649     0.515\n",
       "KNN                     0.447003     0.535\n",
       "DecisionTree            0.443925     0.505\n",
       "ANN                     0.390958     0.575\n",
       "LinearSVM               0.228070     0.520"
      ]
     },
     "execution_count": 83,
     "metadata": {},
     "output_type": "execute_result"
    }
   ],
   "source": [
    "# Models sorted by macro_avg_f1_score on test set :\n",
    "scores.sort_values('macro_avg_f1',ascending=False)"
   ]
  },
  {
   "cell_type": "markdown",
   "metadata": {},
   "source": [
    "**Gaussian Naive Bayes is the best model for Sentiment Analysis**"
   ]
  },
  {
   "cell_type": "markdown",
   "metadata": {},
   "source": [
    "Even if tweets are manually annotated and the dataset is not balanced, our classifiers did a great job to detect tweets sentiments, and by fine-tuning the models and getting more data, we can achieve better results."
   ]
  },
  {
   "cell_type": "code",
   "execution_count": null,
   "metadata": {},
   "outputs": [],
   "source": []
  }
 ],
 "metadata": {
  "colab": {
   "collapsed_sections": [],
   "name": "SentimentAnalysis_SentiWordnet.ipynb",
   "provenance": []
  },
  "kernelspec": {
   "display_name": "Python 3 (ipykernel)",
   "language": "python",
   "name": "python3"
  },
  "language_info": {
   "codemirror_mode": {
    "name": "ipython",
    "version": 3
   },
   "file_extension": ".py",
   "mimetype": "text/x-python",
   "name": "python",
   "nbconvert_exporter": "python",
   "pygments_lexer": "ipython3",
   "version": "3.9.5"
  }
 },
 "nbformat": 4,
 "nbformat_minor": 1
}
